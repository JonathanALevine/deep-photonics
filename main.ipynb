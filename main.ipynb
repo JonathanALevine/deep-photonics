{
 "cells": [
  {
   "cell_type": "code",
   "execution_count": 9,
   "metadata": {},
   "outputs": [],
   "source": [
    "%reset -f"
   ]
  },
  {
   "cell_type": "code",
   "execution_count": 10,
   "metadata": {},
   "outputs": [],
   "source": [
    "#!/usr/bin/env python3\n",
    "import pandas as pd\n",
    "from psycopg2 import sql\n",
    "from typing import Union\n",
    "import numpy as np\n",
    "from tqdm import tqdm\n",
    "import torch\n",
    "from torch import nn"
   ]
  },
  {
   "cell_type": "code",
   "execution_count": 11,
   "metadata": {},
   "outputs": [],
   "source": [
    "class Network(nn.Module):\n",
    "        def __init__(self):\n",
    "                super().__init__()\n",
    "                # network dims\n",
    "                num_features = 5\n",
    "                num_nodes = 100\n",
    "                num_labels = 1\n",
    "                # layers\n",
    "                self.input = nn.Linear(num_features, num_nodes)\n",
    "                self.output = nn.Linear(num_nodes, num_labels)\n",
    "                # activation functions\n",
    "                self.sigmoid = nn.Sigmoid()\n",
    "\n",
    "\n",
    "        def forward(self, x):\n",
    "                x = self.input(x)\n",
    "                x = self.sigmoid(x)\n",
    "                x = self.output(x)\n",
    "                return x"
   ]
  },
  {
   "cell_type": "code",
   "execution_count": null,
   "metadata": {},
   "outputs": [],
   "source": []
  }
 ],
 "metadata": {
  "kernelspec": {
   "display_name": "base",
   "language": "python",
   "name": "python3"
  },
  "language_info": {
   "codemirror_mode": {
    "name": "ipython",
    "version": 3
   },
   "file_extension": ".py",
   "mimetype": "text/x-python",
   "name": "python",
   "nbconvert_exporter": "python",
   "pygments_lexer": "ipython3",
   "version": "3.9.12"
  },
  "orig_nbformat": 4,
  "vscode": {
   "interpreter": {
    "hash": "94c8c8b4917a1e868ddd043fff4bf444b218bb52a8ce2e7cb873768f991264a0"
   }
  }
 },
 "nbformat": 4,
 "nbformat_minor": 2
}
